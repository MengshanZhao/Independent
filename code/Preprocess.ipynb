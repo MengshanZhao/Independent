{
 "cells": [
  {
   "cell_type": "code",
   "execution_count": 1,
   "metadata": {},
   "outputs": [],
   "source": [
    "import pandas as pd\n",
    "import numpy as np"
   ]
  },
  {
   "cell_type": "code",
   "execution_count": 9,
   "metadata": {},
   "outputs": [],
   "source": [
    "#Ratio: For one fire, how many no fire we have in dataset\n",
    "#This function can adjust the fire to no fire ratio in the dataset\n",
    "def fire_ratio_adj(ratio, ds):\n",
    "    drop_prop = (5-ratio)/5\n",
    "    drop_flag_list = np.random.choice([0,1], size=len(ds),p = [1-drop_prop,drop_prop])\n",
    "    for i in range(len(ds)):\n",
    "        if ds.loc[i,1408] == 0 and drop_flag_list[i] == 1:\n",
    "            ds = ds.drop(i)\n",
    "    return ds"
   ]
  },
  {
   "cell_type": "code",
   "execution_count": 4,
   "metadata": {},
   "outputs": [
    {
     "name": "stdout",
     "output_type": "stream",
     "text": [
      "load finished\n",
      "adjust ratio finished\n",
      "fillna finished\n"
     ]
    }
   ],
   "source": [
    "# Adjust Fire ratio \n",
    "ds = pd.read_csv('/data_drive/fire_topdown/calModelPreset1/dataset.csv',header=None, error_bad_lines = False)\n",
    "print('load finished')\n",
    "ds = fire_ratio_adj(2, ds)\n",
    "print('adjust ratio finished')\n",
    "ds.fillna(0,inplace = True)\n",
    "print('fillna finished')\n",
    "dd = ds.describe()\n",
    "print(dd)\n",
    "nan_sum = ds.isna().sum()\n",
    "print(nan_sum)"
   ]
  },
  {
   "cell_type": "code",
   "execution_count": 3,
   "metadata": {},
   "outputs": [],
   "source": [
    "#Split train test data\n",
    "#dir =  '/Users/casey/caseyzzz/data-explore/Caseyzzz/'\n",
    "dir = '/home/casey/'\n",
    "import os\n",
    "os.chdir (dir)"
   ]
  },
  {
   "cell_type": "code",
   "execution_count": null,
   "metadata": {},
   "outputs": [],
   "source": [
    "ds.to_csv('dataset1_2.csv',index = None,header = None)\n",
    "print('1_2 write finished')"
   ]
  },
  {
   "cell_type": "code",
   "execution_count": 7,
   "metadata": {},
   "outputs": [
    {
     "name": "stdout",
     "output_type": "stream",
     "text": [
      "split finished\n"
     ]
    }
   ],
   "source": [
    "#Train Test Split\n",
    "from sklearn.model_selection import train_test_split\n",
    "\n",
    "other, test = train_test_split(ds, test_size = 0.2,random_state=42)\n",
    "print('test finished')\n",
    "\n",
    "train, val = train_test_split(other, test_size = 0.05,random_state=40)\n",
    "print('val finished')\n",
    "\n",
    "train.to_csv('train.csv', index = None,header = None)\n",
    "val.to_csv('val.csv', index = None, header = None)\n",
    "test.to_csv('test.csv',index = None,header = None)\n",
    "print('split finished')"
   ]
  },
  {
   "cell_type": "code",
   "execution_count": 8,
   "metadata": {
    "scrolled": true
   },
   "outputs": [
    {
     "name": "stdout",
     "output_type": "stream",
     "text": [
      "                0             1              2              3     \\\n",
      "count  138966.000000  138966.00000  138966.000000  138966.000000   \n",
      "mean        0.002609       0.00262       0.002631       0.002644   \n",
      "std         0.016564       0.01662       0.016679       0.016757   \n",
      "min         0.000000       0.00000       0.000000       0.000000   \n",
      "25%         0.000000       0.00000       0.000000       0.000000   \n",
      "50%         0.000000       0.00000       0.000000       0.000000   \n",
      "75%         0.000000       0.00000       0.000000       0.000000   \n",
      "max         1.000000       1.00000       1.000000       1.000000   \n",
      "\n",
      "                4              5              6              7     \\\n",
      "count  138966.000000  138966.000000  138966.000000  138966.000000   \n",
      "mean        0.002627       0.002634       0.002641       0.002648   \n",
      "std         0.016665       0.016695       0.016713       0.016732   \n",
      "min         0.000000       0.000000       0.000000       0.000000   \n",
      "25%         0.000000       0.000000       0.000000       0.000000   \n",
      "50%         0.000000       0.000000       0.000000       0.000000   \n",
      "75%         0.000000       0.000000       0.000000       0.000000   \n",
      "max         1.000000       1.000000       1.000000       1.000000   \n",
      "\n",
      "                8              9     ...           1400           1401  \\\n",
      "count  138966.000000  138966.000000  ...  138966.000000  138966.000000   \n",
      "mean        0.002625       0.002632  ...       0.474709       0.479961   \n",
      "std         0.016676       0.016706  ...       0.069228       0.065991   \n",
      "min         0.000000       0.000000  ...       0.000000       0.000000   \n",
      "25%         0.000000       0.000000  ...       0.471228       0.476652   \n",
      "50%         0.000000       0.000000  ...       0.471261       0.476685   \n",
      "75%         0.000000       0.000000  ...       0.471327       0.476750   \n",
      "max         1.000000       1.000000  ...       1.000000       0.991684   \n",
      "\n",
      "                1402           1403           1404           1405  \\\n",
      "count  138966.000000  138966.000000  138966.000000  138966.000000   \n",
      "mean        0.480229       0.477694       0.493401       0.488459   \n",
      "std         0.063253       0.059619       0.055789       0.054828   \n",
      "min         0.000000       0.000000       0.000000       0.000000   \n",
      "25%         0.477266       0.475422       0.492234       0.488106   \n",
      "50%         0.477299       0.475455       0.492266       0.488138   \n",
      "75%         0.477365       0.475520       0.492330       0.488202   \n",
      "max         0.998251       1.000000       0.994080       1.000000   \n",
      "\n",
      "                1406           1407           1408           1409  \n",
      "count  138966.000000  138966.000000  138966.000000  138966.000000  \n",
      "mean        0.488550       0.489032       0.165983       0.834017  \n",
      "std         0.053968       0.055176       0.372067       0.372067  \n",
      "min         0.000000       0.000000       0.000000       0.000000  \n",
      "25%         0.489113       0.490485       0.000000       1.000000  \n",
      "50%         0.489145       0.490517       0.000000       1.000000  \n",
      "75%         0.489208       0.490581       0.000000       1.000000  \n",
      "max         0.986844       1.000000       1.000000       1.000000  \n",
      "\n",
      "[8 rows x 1410 columns]\n",
      "0       0\n",
      "1       0\n",
      "2       0\n",
      "3       0\n",
      "4       0\n",
      "       ..\n",
      "1405    0\n",
      "1406    0\n",
      "1407    0\n",
      "1408    0\n",
      "1409    0\n",
      "Length: 1410, dtype: int64\n"
     ]
    }
   ],
   "source": [
    "dd = train.describe()\n",
    "print(dd)\n",
    "nan_sum = train.isna().sum()\n",
    "print(nan_sum)"
   ]
  }
 ],
 "metadata": {
  "kernelspec": {
   "display_name": "Python 3",
   "language": "python",
   "name": "python3"
  },
  "language_info": {
   "codemirror_mode": {
    "name": "ipython",
    "version": 3
   },
   "file_extension": ".py",
   "mimetype": "text/x-python",
   "name": "python",
   "nbconvert_exporter": "python",
   "pygments_lexer": "ipython3",
   "version": "3.7.8"
  }
 },
 "nbformat": 4,
 "nbformat_minor": 4
}
